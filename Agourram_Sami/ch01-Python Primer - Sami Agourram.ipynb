{
 "cells": [
  {
   "cell_type": "markdown",
   "metadata": {},
   "source": [
    "### Chap1 Python Primer"
   ]
  },
  {
   "cell_type": "code",
   "execution_count": 1,
   "metadata": {
    "ExecuteTime": {
     "end_time": "2019-06-21T02:44:47.091368Z",
     "start_time": "2019-06-21T02:44:47.087858Z"
    }
   },
   "outputs": [],
   "source": [
    "import re\n",
    "from typing import List, TypeVar, Tuple, Any, Generator, Sequence\n",
    "from random import randrange, randint\n",
    "Num = TypeVar('Num', int, float)"
   ]
  },
  {
   "cell_type": "markdown",
   "metadata": {},
   "source": [
    "#### Reinforcement"
   ]
  },
  {
   "cell_type": "markdown",
   "metadata": {},
   "source": [
    "##### R-1.1 \n",
    "Write a short Python function, is multiple(n, m), that takes two integer\n",
    "values and returns True if n is a multiple of m and False otherwise."
   ]
  },
  {
   "cell_type": "code",
   "execution_count": 2,
   "metadata": {},
   "outputs": [],
   "source": [
    "def is_multiple(n,m):\n",
    "    return n%m ==0"
   ]
  },
  {
   "cell_type": "code",
   "execution_count": 3,
   "metadata": {
    "ExecuteTime": {
     "end_time": "2019-06-20T14:47:13.884194Z",
     "start_time": "2019-06-20T14:47:13.874045Z"
    }
   },
   "outputs": [
    {
     "data": {
      "text/plain": [
       "(True, False)"
      ]
     },
     "execution_count": 3,
     "metadata": {},
     "output_type": "execute_result"
    }
   ],
   "source": [
    "is_multiple(4, 2), is_multiple(4, 3)"
   ]
  },
  {
   "cell_type": "markdown",
   "metadata": {},
   "source": [
    "##### R-1.2\n",
    "Write a short Python function, is even(k), that takes an integer value and\n",
    "returns True if k is even, and False otherwise. However, your function\n",
    "cannot use the multiplication, modulo, or division operators.\n",
    "\n",
    "> hint: `Use bit operations.`[Check if a number is odd or even in python [duplicate]](https://stackoverflow.com/questions/21837208/check-if-a-number-is-odd-or-even-in-python)"
   ]
  },
  {
   "cell_type": "code",
   "execution_count": 4,
   "metadata": {
    "ExecuteTime": {
     "end_time": "2019-06-20T15:04:03.820370Z",
     "start_time": "2019-06-20T15:04:03.811375Z"
    }
   },
   "outputs": [],
   "source": [
    "def is_even(x):\n",
    "    return x&1 == 0"
   ]
  },
  {
   "cell_type": "code",
   "execution_count": 5,
   "metadata": {
    "ExecuteTime": {
     "end_time": "2019-06-20T15:04:04.302465Z",
     "start_time": "2019-06-20T15:04:04.295976Z"
    }
   },
   "outputs": [
    {
     "data": {
      "text/plain": [
       "(False, True)"
      ]
     },
     "execution_count": 5,
     "metadata": {},
     "output_type": "execute_result"
    }
   ],
   "source": [
    "is_even(3), is_even(4)"
   ]
  },
  {
   "cell_type": "markdown",
   "metadata": {},
   "source": [
    "##### R-1.3\n",
    "Write a short Python function, minmax(data), that takes a sequence of\n",
    "one or more numbers, and returns the smallest and largest numbers, in the\n",
    "form of a tuple of length two. Do not use the built-in functions min or\n",
    "max in implementing your solution.\n",
    "\n",
    "hint `Union[int, float]`， [stackoverflow](https://stackoverflow.com/questions/43957034/python-type-hints-specifying-a-type-to-be-a-list-of-numbers-ints-and-or-floats)."
   ]
  },
  {
   "cell_type": "code",
   "execution_count": 6,
   "metadata": {
    "ExecuteTime": {
     "end_time": "2019-06-20T15:24:10.756558Z",
     "start_time": "2019-06-20T15:24:10.743317Z"
    }
   },
   "outputs": [],
   "source": [
    "from typing import Union \n",
    "def minmax(l : Union[int, float]) -> tuple:\n",
    "    maxi = l[0]\n",
    "    mini = l[0]\n",
    "    for i in range(len(l)-1):\n",
    "        if l[i+1] > maxi:\n",
    "            maxi = l[i+1]\n",
    "        if l[i+1] < mini :\n",
    "            mini = l[i+1]\n",
    "    return mini, maxi"
   ]
  },
  {
   "cell_type": "code",
   "execution_count": 7,
   "metadata": {
    "ExecuteTime": {
     "end_time": "2019-06-20T15:24:18.708297Z",
     "start_time": "2019-06-20T15:24:18.693593Z"
    }
   },
   "outputs": [
    {
     "data": {
      "text/plain": [
       "(1, 4)"
      ]
     },
     "execution_count": 7,
     "metadata": {},
     "output_type": "execute_result"
    }
   ],
   "source": [
    "minmax((1, 2, 3, 4))"
   ]
  },
  {
   "cell_type": "markdown",
   "metadata": {},
   "source": [
    "##### R-1.4, R-1.5\n",
    "1.4: Write a short Python function that takes a positive integer n and returns\n",
    "the sum of the squares of all the positive integers smaller than n.\n",
    "\n",
    "1.5: Give a single command that computes the sum from Exercise R-1.4, relying on Python’s comprehension syntax and the built-in sum function."
   ]
  },
  {
   "cell_type": "code",
   "execution_count": 8,
   "metadata": {
    "ExecuteTime": {
     "end_time": "2019-06-20T15:30:54.521583Z",
     "start_time": "2019-06-20T15:30:54.516659Z"
    }
   },
   "outputs": [],
   "source": [
    "#R-1.4\n",
    "def sum_squares(n):\n",
    "    s = 0\n",
    "    for i in range(1,n):\n",
    "        s += i**2\n",
    "    return s"
   ]
  },
  {
   "cell_type": "code",
   "execution_count": 9,
   "metadata": {},
   "outputs": [
    {
     "data": {
      "text/plain": [
       "14"
      ]
     },
     "execution_count": 9,
     "metadata": {},
     "output_type": "execute_result"
    }
   ],
   "source": [
    "sum_squares(4)"
   ]
  },
  {
   "cell_type": "code",
   "execution_count": 10,
   "metadata": {},
   "outputs": [],
   "source": [
    "#R-1.5\n",
    "def sum_squares2(n):\n",
    "    return sum([i**2 for i in range(1, n+1)])"
   ]
  },
  {
   "cell_type": "code",
   "execution_count": 11,
   "metadata": {
    "ExecuteTime": {
     "end_time": "2019-06-20T15:31:14.740944Z",
     "start_time": "2019-06-20T15:31:14.731115Z"
    }
   },
   "outputs": [
    {
     "data": {
      "text/plain": [
       "30"
      ]
     },
     "execution_count": 11,
     "metadata": {},
     "output_type": "execute_result"
    }
   ],
   "source": [
    "sum_squares2(4)"
   ]
  },
  {
   "cell_type": "markdown",
   "metadata": {},
   "source": [
    "##### R-1.6, R-1.7\n",
    "R-1.6: Write a short Python function that takes a positive integer n and returns\n",
    "the sum of the squares of all the odd positive integers smaller than n.\n",
    "\n",
    "R-1.7: Give a single command that computes the sum from Exercise R-1.6, relying on Python’s comprehension syntax and the built-in sum function."
   ]
  },
  {
   "cell_type": "code",
   "execution_count": 12,
   "metadata": {
    "ExecuteTime": {
     "end_time": "2019-06-20T15:32:18.028258Z",
     "start_time": "2019-06-20T15:32:18.017158Z"
    }
   },
   "outputs": [],
   "source": [
    "#R-1.6\n",
    "def sum_squares_odd(n):\n",
    "    s = 0\n",
    "    for i in range(1,n):\n",
    "        if i & 1 == 1:\n",
    "            s += i**2\n",
    "    return s "
   ]
  },
  {
   "cell_type": "code",
   "execution_count": 13,
   "metadata": {},
   "outputs": [
    {
     "data": {
      "text/plain": [
       "10"
      ]
     },
     "execution_count": 13,
     "metadata": {},
     "output_type": "execute_result"
    }
   ],
   "source": [
    "sum_squares_odd(5)"
   ]
  },
  {
   "cell_type": "code",
   "execution_count": 14,
   "metadata": {},
   "outputs": [
    {
     "data": {
      "text/plain": [
       "35"
      ]
     },
     "execution_count": 14,
     "metadata": {},
     "output_type": "execute_result"
    }
   ],
   "source": [
    "#R-1.7\n",
    "n = 7\n",
    "sum(x**2 for x in range(1,n) if x&1 == 1)"
   ]
  },
  {
   "cell_type": "markdown",
   "metadata": {},
   "source": [
    "##### R-1.8\n",
    "Python allows negative integers to be used as indices into a sequence,\n",
    "such as a string. If string s has length n, and expression s[k] is used for index −n ≤ k < 0, what is the equivalent index j ≥ 0 such that s[j] references\n",
    "the same element?"
   ]
  },
  {
   "cell_type": "code",
   "execution_count": 15,
   "metadata": {},
   "outputs": [],
   "source": [
    "# j = n+k"
   ]
  },
  {
   "cell_type": "markdown",
   "metadata": {},
   "source": [
    "##### R-1.9 \n",
    "What parameters should be sent to the range constructor, to produce a\n",
    "range with values 50, 60, 70, 80?"
   ]
  },
  {
   "cell_type": "code",
   "execution_count": 16,
   "metadata": {
    "ExecuteTime": {
     "end_time": "2019-06-20T15:50:34.267076Z",
     "start_time": "2019-06-20T15:50:34.262705Z"
    }
   },
   "outputs": [
    {
     "data": {
      "text/plain": [
       "[50, 60, 70, 80]"
      ]
     },
     "execution_count": 16,
     "metadata": {},
     "output_type": "execute_result"
    }
   ],
   "source": [
    "[i for i in range(50,81,10)]"
   ]
  },
  {
   "cell_type": "markdown",
   "metadata": {},
   "source": [
    "##### R-1.10\n",
    "What parameters should be sent to the range constructor, to produce a\n",
    "range with values 8, 6, 4, 2, 0, −2, −4, −6, −8?"
   ]
  },
  {
   "cell_type": "code",
   "execution_count": 17,
   "metadata": {
    "ExecuteTime": {
     "end_time": "2019-06-20T15:50:54.576141Z",
     "start_time": "2019-06-20T15:50:54.569138Z"
    }
   },
   "outputs": [
    {
     "data": {
      "text/plain": [
       "[8, 6, 4, 2, 0, -2, -4, -6, -8]"
      ]
     },
     "execution_count": 17,
     "metadata": {},
     "output_type": "execute_result"
    }
   ],
   "source": [
    "[i for i in range(8,-9,-2)]"
   ]
  },
  {
   "cell_type": "markdown",
   "metadata": {},
   "source": [
    "##### R-1.11\n",
    "Demonstrate how to use Python’s list comprehension syntax to produce\n",
    "the list [1, 2, 4, 8, 16, 32, 64, 128, 256]."
   ]
  },
  {
   "cell_type": "code",
   "execution_count": 18,
   "metadata": {
    "ExecuteTime": {
     "end_time": "2019-06-20T15:51:15.451914Z",
     "start_time": "2019-06-20T15:51:15.441327Z"
    }
   },
   "outputs": [
    {
     "data": {
      "text/plain": [
       "[1, 2, 4, 8, 16, 32, 64, 128, 256]"
      ]
     },
     "execution_count": 18,
     "metadata": {},
     "output_type": "execute_result"
    }
   ],
   "source": [
    "[2**k for k in range(9)]"
   ]
  },
  {
   "cell_type": "markdown",
   "metadata": {},
   "source": [
    "##### R-1.12\n",
    "Python’s random module includes a function choice(data) that returns a\n",
    "random element from a non-empty sequence. The random module in-\n",
    "cludes a more basic function randrange, with parameterization similar to\n",
    "the built-in range function, that return a random choice from the given\n",
    "range. Using only the randrange function, implement your own version\n",
    "of the choice function."
   ]
  },
  {
   "cell_type": "code",
   "execution_count": 19,
   "metadata": {
    "ExecuteTime": {
     "end_time": "2019-06-20T15:51:57.888050Z",
     "start_time": "2019-06-20T15:51:57.880735Z"
    }
   },
   "outputs": [],
   "source": [
    "import random\n",
    "def choice(x):\n",
    "    rand = random.randrange(0,len(x))\n",
    "    return x[rand]"
   ]
  },
  {
   "cell_type": "code",
   "execution_count": 20,
   "metadata": {
    "ExecuteTime": {
     "end_time": "2019-06-20T15:52:31.662203Z",
     "start_time": "2019-06-20T15:52:31.654515Z"
    }
   },
   "outputs": [
    {
     "data": {
      "text/plain": [
       "(1, 1, 3)"
      ]
     },
     "execution_count": 20,
     "metadata": {},
     "output_type": "execute_result"
    }
   ],
   "source": [
    "choice([1, 2, 3, 4]), choice([1, 2, 3, 4]), choice([1, 2, 3, 4])"
   ]
  },
  {
   "cell_type": "markdown",
   "metadata": {},
   "source": [
    "#### Creativity"
   ]
  },
  {
   "cell_type": "markdown",
   "metadata": {},
   "source": [
    "##### C-1.13 \n",
    "Write a pseudo-code description of a function that reverses a list of n\n",
    "integers, so that the numbers are listed in the opposite order than they\n",
    "were before, and compare this method to an equivalent Python function\n",
    "for doing the same thing.\n",
    "\n",
    "`The Python function does not need to be passed the value of n as\n",
    "an argument.`:-)"
   ]
  },
  {
   "cell_type": "code",
   "execution_count": 21,
   "metadata": {
    "ExecuteTime": {
     "end_time": "2019-06-20T16:17:10.770555Z",
     "start_time": "2019-06-20T16:17:10.766384Z"
    }
   },
   "outputs": [],
   "source": [
    "def reverse(l):\n",
    "    return l[::-1]"
   ]
  },
  {
   "cell_type": "code",
   "execution_count": 22,
   "metadata": {
    "ExecuteTime": {
     "end_time": "2019-06-20T16:17:17.573623Z",
     "start_time": "2019-06-20T16:17:17.566797Z"
    }
   },
   "outputs": [
    {
     "data": {
      "text/plain": [
       "[4, 3, 2, 1]"
      ]
     },
     "execution_count": 22,
     "metadata": {},
     "output_type": "execute_result"
    }
   ],
   "source": [
    "reverse([1, 2, 3, 4])"
   ]
  },
  {
   "cell_type": "code",
   "execution_count": 23,
   "metadata": {},
   "outputs": [
    {
     "data": {
      "text/plain": [
       "[4, 3, 2, 1]"
      ]
     },
     "execution_count": 23,
     "metadata": {},
     "output_type": "execute_result"
    }
   ],
   "source": [
    "#Equivalent 1\n",
    "list(reversed([1, 2, 3, 4]))"
   ]
  },
  {
   "cell_type": "code",
   "execution_count": 24,
   "metadata": {},
   "outputs": [
    {
     "data": {
      "text/plain": [
       "[4, 3, 2, 1]"
      ]
     },
     "execution_count": 24,
     "metadata": {},
     "output_type": "execute_result"
    }
   ],
   "source": [
    "#Equivalent 2\n",
    "l = [1, 2, 3, 4]\n",
    "l.reverse()\n",
    "l"
   ]
  },
  {
   "cell_type": "markdown",
   "metadata": {},
   "source": [
    "##### C-1.14\n",
    "Write a short Python function that takes a sequence of integer values and\n",
    "determines if there is a distinct pair of numbers in the sequence whose\n",
    "product is odd."
   ]
  },
  {
   "cell_type": "code",
   "execution_count": 25,
   "metadata": {},
   "outputs": [],
   "source": [
    "def odd_pair(data):\n",
    "    odd = set(x for x in data if x%2 == 1)\n",
    "    return len(odd) >= 2"
   ]
  },
  {
   "cell_type": "code",
   "execution_count": 26,
   "metadata": {
    "ExecuteTime": {
     "end_time": "2019-06-20T16:24:46.046913Z",
     "start_time": "2019-06-20T16:24:46.040602Z"
    }
   },
   "outputs": [
    {
     "data": {
      "text/plain": [
       "(False, True)"
      ]
     },
     "execution_count": 26,
     "metadata": {},
     "output_type": "execute_result"
    }
   ],
   "source": [
    "odd_pair([2, 3, 3, 4]), odd_pair([2, 3, 3, 5])"
   ]
  },
  {
   "cell_type": "markdown",
   "metadata": {},
   "source": [
    "##### C-1.15\n",
    "Write a Python function that takes a sequence of numbers and determines\n",
    "if all the numbers are different from each other (that is, they are distinct)."
   ]
  },
  {
   "cell_type": "code",
   "execution_count": 27,
   "metadata": {
    "ExecuteTime": {
     "end_time": "2019-06-20T16:26:56.308575Z",
     "start_time": "2019-06-20T16:26:56.302772Z"
    }
   },
   "outputs": [],
   "source": [
    "def is_unique(data):\n",
    "    return len(data) == len(set(data))"
   ]
  },
  {
   "cell_type": "code",
   "execution_count": 28,
   "metadata": {
    "ExecuteTime": {
     "end_time": "2019-06-20T16:27:08.983299Z",
     "start_time": "2019-06-20T16:27:08.974577Z"
    }
   },
   "outputs": [
    {
     "data": {
      "text/plain": [
       "(True, False)"
      ]
     },
     "execution_count": 28,
     "metadata": {},
     "output_type": "execute_result"
    }
   ],
   "source": [
    "is_unique([1, 2, 3]), is_unique([1, 2, 3, 3])"
   ]
  },
  {
   "cell_type": "markdown",
   "metadata": {},
   "source": [
    "##### C-1.16 \n",
    "In our implementation of the scale function (page 25):\n",
    "\n",
    "````python\n",
    "def scale(data, factor):\n",
    "    for j in range(len(data)):\n",
    "        data[j] *= factor\n",
    "````\n",
    "We have discussed that numeric types are immutable, and that use of the = operator in this context causes\n",
    "the creation of a new instance (not the mutation of an existing instance).\n",
    "How is it still possible, then, that our implementation of scale changes the\n",
    "actual parameter sent by the caller?"
   ]
  },
  {
   "cell_type": "markdown",
   "metadata": {},
   "source": [
    ">hint: Think about the semantics of data[j] = data[j] ∗ factor.\n",
    "\n"
   ]
  },
  {
   "cell_type": "markdown",
   "metadata": {},
   "source": [
    "### ->   lists are mutable - data[j] = data[j] ∗ factor. access the list (data) and modifies it meanwhile in 1.17 we are accessing val which is an integer and is immutable"
   ]
  },
  {
   "cell_type": "code",
   "execution_count": 29,
   "metadata": {},
   "outputs": [],
   "source": [
    "def scale(data, factor):\n",
    "    for j in range(len(data)):\n",
    "        print(\"Id before: \", id(data[j]))\n",
    "        data[j] *= factor\n",
    "        print(\"Id after: \", id(data[j]))"
   ]
  },
  {
   "cell_type": "code",
   "execution_count": 30,
   "metadata": {},
   "outputs": [
    {
     "name": "stdout",
     "output_type": "stream",
     "text": [
      "Id before:  140734304823072\n",
      "Id after:  3069502266960\n",
      "Id before:  140734304823104\n",
      "Id after:  3069502267088\n",
      "Id before:  140734304823200\n",
      "Id after:  3069502266608\n",
      "Id before:  140734304823200\n",
      "Id after:  3069502265008\n",
      "Id before:  140734304823200\n",
      "Id after:  3069502265040\n"
     ]
    }
   ],
   "source": [
    "scale([1,2,5,5,5],0.4)"
   ]
  },
  {
   "cell_type": "markdown",
   "metadata": {},
   "source": [
    "##### C-1.17 \n",
    "Had we implemented the scale function (page 25) as follows, does it work\n",
    "properly?\n",
    "```python\n",
    "def scale(data, factor):\n",
    "    for val in data:\n",
    "        val *= factor\n",
    "```\n",
    "Explain why or why not."
   ]
  },
  {
   "cell_type": "markdown",
   "metadata": {},
   "source": [
    "### -> we are accessing val which is an integer and is immutable\n"
   ]
  },
  {
   "cell_type": "markdown",
   "metadata": {},
   "source": [
    "##### C-1.18 \n",
    "Demonstrate how to use Python’s list comprehension syntax to produce\n",
    "the list [0, 2, 6, 12, 20, 30, 42, 56, 72, 90]."
   ]
  },
  {
   "cell_type": "markdown",
   "metadata": {},
   "source": [
    "\n",
    "$$a_0  = 0$$\n",
    "$$a_1  = a_0 + 2 \\cdot 1$$\n",
    "$$a_2  = a_1 + 2 \\cdot 2$$\n",
    "$$\\vdots $$\n",
    "$$a_n  = a_{n-1} + 2 \\cdot (n-1)$$\n",
    "\n",
    "$$a_n = n \\cdot (n+1)$$"
   ]
  },
  {
   "cell_type": "code",
   "execution_count": 31,
   "metadata": {},
   "outputs": [
    {
     "data": {
      "text/plain": [
       "[0, 2, 6, 12, 20, 30, 42, 56, 72, 90]"
      ]
     },
     "execution_count": 31,
     "metadata": {},
     "output_type": "execute_result"
    }
   ],
   "source": [
    "[x*(x-1) for x in range(1,11)]"
   ]
  },
  {
   "cell_type": "markdown",
   "metadata": {},
   "source": [
    "##### C-1.19\n",
    "Demonstrate how to use Python’s list comprehension syntax to produce\n",
    "the list [ a , b , c , ..., z ], but without having to type all 26 such\n",
    "characters literally."
   ]
  },
  {
   "cell_type": "code",
   "execution_count": 32,
   "metadata": {
    "ExecuteTime": {
     "end_time": "2019-06-21T00:44:17.042364Z",
     "start_time": "2019-06-21T00:44:17.035645Z"
    }
   },
   "outputs": [
    {
     "data": {
      "text/plain": [
       "['a',\n",
       " 'b',\n",
       " 'c',\n",
       " 'd',\n",
       " 'e',\n",
       " 'f',\n",
       " 'g',\n",
       " 'h',\n",
       " 'i',\n",
       " 'j',\n",
       " 'k',\n",
       " 'l',\n",
       " 'm',\n",
       " 'n',\n",
       " 'o',\n",
       " 'p',\n",
       " 'q',\n",
       " 'r',\n",
       " 's',\n",
       " 't',\n",
       " 'u',\n",
       " 'v',\n",
       " 'w',\n",
       " 'x',\n",
       " 'y',\n",
       " 'z']"
      ]
     },
     "execution_count": 32,
     "metadata": {},
     "output_type": "execute_result"
    }
   ],
   "source": [
    "[chr(alphabet) for alphabet in range(97,123) ]"
   ]
  },
  {
   "cell_type": "markdown",
   "metadata": {},
   "source": [
    "##### C-1.20\n",
    "Python’s random module includes a function shuffle(data) that accepts a\n",
    "list of elements and randomly reorders the elements so that each possi-\n",
    "ble order occurs with equal probability. The random module includes a\n",
    "more basic function randint(a, b) that returns a uniformly random integer\n",
    "from a to b (including both endpoints). Using only the randint function,\n",
    "implement your own version of the shuffle function."
   ]
  },
  {
   "cell_type": "code",
   "execution_count": 33,
   "metadata": {
    "ExecuteTime": {
     "end_time": "2019-06-21T01:10:16.070754Z",
     "start_time": "2019-06-21T01:10:16.055855Z"
    }
   },
   "outputs": [],
   "source": [
    "import random\n",
    "def shuffle(data):\n",
    "    for i in range(len(data)):\n",
    "        random_index = random.randint(0,len(data)-1)\n",
    "        data[i] , data[random_index] = data[random_index],data[i]"
   ]
  },
  {
   "cell_type": "code",
   "execution_count": 34,
   "metadata": {
    "ExecuteTime": {
     "end_time": "2019-06-21T01:10:20.782362Z",
     "start_time": "2019-06-21T01:10:20.777198Z"
    }
   },
   "outputs": [
    {
     "data": {
      "text/plain": [
       "[2, 4, 3, 1]"
      ]
     },
     "execution_count": 34,
     "metadata": {},
     "output_type": "execute_result"
    }
   ],
   "source": [
    "l1 = [1, 2, 3, 4]\n",
    "shuffle(l1)\n",
    "l1"
   ]
  },
  {
   "cell_type": "markdown",
   "metadata": {},
   "source": [
    "##### C-1.21\n",
    "Write a Python program that repeatedly reads lines from standard input\n",
    "until an EOFError is raised, and then outputs those lines in reverse order\n",
    "(a user can indicate end of input by typing ctrl-D)."
   ]
  },
  {
   "cell_type": "code",
   "execution_count": 35,
   "metadata": {
    "ExecuteTime": {
     "end_time": "2019-06-21T01:32:26.366493Z",
     "start_time": "2019-06-21T01:32:26.348434Z"
    }
   },
   "outputs": [],
   "source": [
    "def print_reverse():\n",
    "    lines=[]\n",
    "    line = \"\"\n",
    "    try:\n",
    "        while not line == \"ctrl-D\":\n",
    "            lines.append(line)\n",
    "            line = input()\n",
    "    except EOFError:\n",
    "        pass\n",
    "    for line in reversed(lines):\n",
    "        print(line)"
   ]
  },
  {
   "cell_type": "code",
   "execution_count": 36,
   "metadata": {},
   "outputs": [
    {
     "name": "stdout",
     "output_type": "stream",
     "text": [
      "you\n",
      "can\n",
      "code\n",
      "ctrl-D\n",
      "code\n",
      "can\n",
      "you\n",
      "\n"
     ]
    }
   ],
   "source": [
    "print_reverse()"
   ]
  },
  {
   "cell_type": "markdown",
   "metadata": {},
   "source": [
    "##### C-1.22\n",
    "Write a short Python program that takes two arrays a and b of length n\n",
    "storing int values, and returns the dot product of a and b. That is, it returns\n",
    "an array c of length n such that c[i] = a[i] · b[i], for i = 0, . . . , n − 1."
   ]
  },
  {
   "cell_type": "code",
   "execution_count": 37,
   "metadata": {},
   "outputs": [],
   "source": [
    "import numpy as np\n",
    "def array_product(a,b):\n",
    "    return list(np.multiply(a,b))"
   ]
  },
  {
   "cell_type": "code",
   "execution_count": 38,
   "metadata": {},
   "outputs": [],
   "source": [
    "#without numpy\n",
    "def array_product1(a,b):\n",
    "    if len(a) == len(b):\n",
    "        return([a[k]*b[k] for k,j in enumerate(a)])"
   ]
  },
  {
   "cell_type": "code",
   "execution_count": 39,
   "metadata": {
    "ExecuteTime": {
     "end_time": "2019-06-21T01:41:51.626301Z",
     "start_time": "2019-06-21T01:41:51.621068Z"
    }
   },
   "outputs": [
    {
     "data": {
      "text/plain": [
       "[2, 12, 30]"
      ]
     },
     "execution_count": 39,
     "metadata": {},
     "output_type": "execute_result"
    }
   ],
   "source": [
    "array_product([1, 3, 5], [2, 4, 6])"
   ]
  },
  {
   "cell_type": "code",
   "execution_count": 40,
   "metadata": {},
   "outputs": [
    {
     "data": {
      "text/plain": [
       "[2, 12, 30]"
      ]
     },
     "execution_count": 40,
     "metadata": {},
     "output_type": "execute_result"
    }
   ],
   "source": [
    "array_product1([1, 3, 5], [2, 4, 6])"
   ]
  },
  {
   "cell_type": "markdown",
   "metadata": {},
   "source": [
    "##### C-1.23\n",
    "Give an example of a Python code fragment that attempts to write an element to a list based on an index that may be out of bounds. If that index\n",
    "is out of bounds, the program should catch the exception that results, and\n",
    "print the following error message:\n",
    "“Don’t try buffer overflow attacks in Python!”"
   ]
  },
  {
   "cell_type": "code",
   "execution_count": 41,
   "metadata": {
    "ExecuteTime": {
     "end_time": "2019-06-21T01:46:01.359032Z",
     "start_time": "2019-06-21T01:46:01.349608Z"
    }
   },
   "outputs": [],
   "source": [
    "def check_overflow(l,n):    \n",
    "    try:\n",
    "        l[n] = f'element{n+1} modified'\n",
    "    except IndexError :\n",
    "        print('Don’t try buffer overflow attacks in Python!')"
   ]
  },
  {
   "cell_type": "code",
   "execution_count": 42,
   "metadata": {
    "ExecuteTime": {
     "end_time": "2019-06-21T01:46:01.756108Z",
     "start_time": "2019-06-21T01:46:01.749846Z"
    }
   },
   "outputs": [
    {
     "name": "stdout",
     "output_type": "stream",
     "text": [
      "Don’t try buffer overflow attacks in Python!\n"
     ]
    }
   ],
   "source": [
    "l = [0,1,2,3]\n",
    "check_overflow(l, 5)"
   ]
  },
  {
   "cell_type": "markdown",
   "metadata": {},
   "source": [
    "##### C-1.24\n",
    "Write a short Python function that counts the number of vowels in a given\n",
    "character string."
   ]
  },
  {
   "cell_type": "code",
   "execution_count": 43,
   "metadata": {
    "ExecuteTime": {
     "end_time": "2019-06-21T01:50:05.655908Z",
     "start_time": "2019-06-21T01:50:05.645740Z"
    }
   },
   "outputs": [],
   "source": [
    "def get_vowels(text: str):\n",
    "    text = text.lower()\n",
    "    vowels = ['a','e','o','u','i']\n",
    "    count_vowel = 0\n",
    "    for i in text:\n",
    "        if i in vowels:\n",
    "            count_vowel += 1\n",
    "    return count_vowel"
   ]
  },
  {
   "cell_type": "code",
   "execution_count": 44,
   "metadata": {
    "ExecuteTime": {
     "end_time": "2019-06-21T01:50:05.971718Z",
     "start_time": "2019-06-21T01:50:05.966316Z"
    }
   },
   "outputs": [
    {
     "data": {
      "text/plain": [
       "2"
      ]
     },
     "execution_count": 44,
     "metadata": {},
     "output_type": "execute_result"
    }
   ],
   "source": [
    "get_vowels('hello')"
   ]
  },
  {
   "cell_type": "markdown",
   "metadata": {},
   "source": [
    "##### C-1.25\n",
    "Write a short Python function that takes a string s, representing a sentence,\n",
    "and returns a copy of the string with all punctuation removed. For example, if given the string \"Let's try, Mike.\", this function would return \"Lets try Mike\"."
   ]
  },
  {
   "cell_type": "code",
   "execution_count": 45,
   "metadata": {},
   "outputs": [],
   "source": [
    "import string\n",
    "def remove_punctuation(s):\n",
    "    for i in s:\n",
    "        if i in string.punctuation:\n",
    "            s = s.replace(i,'')\n",
    "    return s\n",
    "            "
   ]
  },
  {
   "cell_type": "code",
   "execution_count": 46,
   "metadata": {
    "ExecuteTime": {
     "end_time": "2019-06-21T01:56:59.071716Z",
     "start_time": "2019-06-21T01:56:59.057551Z"
    }
   },
   "outputs": [
    {
     "data": {
      "text/plain": [
       "'Lets try Mike'"
      ]
     },
     "execution_count": 46,
     "metadata": {},
     "output_type": "execute_result"
    }
   ],
   "source": [
    "remove_punctuation(\"Let's try, Mike.\")"
   ]
  },
  {
   "cell_type": "markdown",
   "metadata": {},
   "source": [
    "##### C-1.26\n",
    "Write a short program that takes as input three integers, a, b, and c, from\n",
    "the console and determines if they can be used in a correct arithmetic\n",
    "formula (in the given order), like “a + b = c,” “a = b − c,” or “a ∗ b = c.”"
   ]
  },
  {
   "cell_type": "code",
   "execution_count": 47,
   "metadata": {},
   "outputs": [],
   "source": [
    "def check_op_right(a,b,c):\n",
    "    return a+b ==c or a == b-c or a*b == c"
   ]
  },
  {
   "cell_type": "code",
   "execution_count": 48,
   "metadata": {},
   "outputs": [
    {
     "data": {
      "text/plain": [
       "False"
      ]
     },
     "execution_count": 48,
     "metadata": {},
     "output_type": "execute_result"
    }
   ],
   "source": [
    "check_op_right(12,7,9)"
   ]
  },
  {
   "cell_type": "markdown",
   "metadata": {},
   "source": [
    "##### C-1.27\n",
    "In Section 1.8, we provided three different implementations of a generator\n",
    "that computes factors of a given integer. The third of those implementations, from page 41, was the most efficient, \n",
    "````python\n",
    "def factors(n): # generator that computes factors\n",
    "    k = 1\n",
    "    while k*k < n: # while k < sqrt(n)\n",
    "        if n % k == 0:\n",
    "            yield k\n",
    "            yield n // k\n",
    "        k += 1\n",
    "    if k*k == n: # special case if n is perfect square\n",
    "        yield k\n",
    "````\n",
    "\n",
    "However, we noted that it did not yield the factors in increasing order. Modify the generator so that it reports\n",
    "factors in increasing order, while maintaining its general performance advantages."
   ]
  },
  {
   "cell_type": "code",
   "execution_count": 49,
   "metadata": {
    "ExecuteTime": {
     "end_time": "2019-06-21T02:45:16.774059Z",
     "start_time": "2019-06-21T02:45:16.764190Z"
    }
   },
   "outputs": [],
   "source": [
    "def factors(n):\n",
    "    k=1\n",
    "    while k*k<n:\n",
    "        if n%k==0:\n",
    "            yield k\n",
    "        k+=1\n",
    "    \n",
    "    if k*k==n:\n",
    "        yield k\n",
    "    \n",
    "    while k>0:\n",
    "        if n%k==0:\n",
    "            yield n//k\n",
    "        k -= 1"
   ]
  },
  {
   "cell_type": "code",
   "execution_count": 50,
   "metadata": {
    "ExecuteTime": {
     "end_time": "2019-06-21T02:45:18.422599Z",
     "start_time": "2019-06-21T02:45:18.416189Z"
    }
   },
   "outputs": [
    {
     "data": {
      "text/plain": [
       "[1, 2, 4, 5, 10, 10, 20, 25, 50, 100]"
      ]
     },
     "execution_count": 50,
     "metadata": {},
     "output_type": "execute_result"
    }
   ],
   "source": [
    "list(factors(100))"
   ]
  },
  {
   "cell_type": "markdown",
   "metadata": {},
   "source": [
    "##### C-1.28 \n",
    "The p-norm of a vector v = (v 1 , v 2 , . . . , v n ) in n-dimensional space is de-\n",
    "fined as:\n",
    "$$\n",
    "\\|v\\|=\\sqrt[p]{v_{1}^{p}+v_{2}^{p}+\\cdots+v_{n}^{p}}\n",
    "$$\n",
    "\n",
    "For the special case of p = 2, this results in the traditional Euclidean\n",
    "norm, which represents the length of the vector. Give an implementation of a function named norm such that norm(v, p) returns the p-norm\n",
    "value of v and norm(v) returns the Euclidean norm of v. You may assume\n",
    "that v is a list of numbers."
   ]
  },
  {
   "cell_type": "code",
   "execution_count": 51,
   "metadata": {
    "ExecuteTime": {
     "end_time": "2019-06-21T02:56:09.284541Z",
     "start_time": "2019-06-21T02:56:09.280679Z"
    }
   },
   "outputs": [],
   "source": [
    "def norm(v:list ,p: int=2):\n",
    "    return pow(sum(x**p for x in v),1/p)"
   ]
  },
  {
   "cell_type": "code",
   "execution_count": 52,
   "metadata": {
    "ExecuteTime": {
     "end_time": "2019-06-21T02:56:22.162567Z",
     "start_time": "2019-06-21T02:56:22.157934Z"
    }
   },
   "outputs": [
    {
     "data": {
      "text/plain": [
       "5.0"
      ]
     },
     "execution_count": 52,
     "metadata": {},
     "output_type": "execute_result"
    }
   ],
   "source": [
    "norm([4, 3])"
   ]
  }
 ],
 "metadata": {
  "kernelspec": {
   "display_name": "Python 3",
   "language": "python",
   "name": "python3"
  },
  "language_info": {
   "codemirror_mode": {
    "name": "ipython",
    "version": 3
   },
   "file_extension": ".py",
   "mimetype": "text/x-python",
   "name": "python",
   "nbconvert_exporter": "python",
   "pygments_lexer": "ipython3",
   "version": "3.8.5"
  },
  "toc": {
   "nav_menu": {},
   "number_sections": false,
   "sideBar": true,
   "skip_h1_title": false,
   "title_cell": "Table of Contents",
   "title_sidebar": "Contents",
   "toc_cell": false,
   "toc_position": {
    "height": "calc(100% - 180px)",
    "left": "10px",
    "top": "150px",
    "width": "273.2px"
   },
   "toc_section_display": true,
   "toc_window_display": true
  }
 },
 "nbformat": 4,
 "nbformat_minor": 2
}
